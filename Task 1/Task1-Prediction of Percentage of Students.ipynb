{
 "cells": [
  {
   "cell_type": "markdown",
   "id": "cb7615bb",
   "metadata": {},
   "source": [
    "-------------------------------------------------------------------------------------------------------------------------------\n",
    "\n",
    "<b>The Sparks Foundation: Data Science & Business Analytics</b>\n",
    "\n",
    "Submitted by: Vardan Gupta ( vardangupta00@gmail.com )\n",
    "\n",
    "Batch: July 21\n",
    "\n",
    "Task-1: Prediction using Supervised ML\n",
    "\n",
    "Description: Prediction of Marks Percentage Scored by Student on the basis of Study Hours.\n",
    "\n",
    "Resourses used: https://raw.githubusercontent.com/AdiPersonalWorks/Random/master/student_scores%20-%20student_scores.csv\n",
    "\n",
    "-------------------------------------------------------------------------------------------------------------------------------\n",
    "\n",
    "\n",
    "\n",
    "\n",
    "\n",
    "\n",
    "\n",
    "\n",
    "\n",
    "\n",
    "\n",
    "<b>Importing Libraries</b>"
   ]
  },
  {
   "cell_type": "code",
   "execution_count": 63,
   "id": "08b43ba6",
   "metadata": {},
   "outputs": [],
   "source": [
    "#Importing Libraries\n",
    "import numpy as np\n",
    "import pandas as pd\n",
    "import matplotlib.pyplot as plt\n",
    "from sklearn.linear_model import LinearRegression\n",
    "from sklearn.metrics import r2_score,mean_squared_error"
   ]
  },
  {
   "cell_type": "markdown",
   "id": "2ac75d42",
   "metadata": {},
   "source": [
    "<b>Reading the Dataset</b>"
   ]
  },
  {
   "cell_type": "code",
   "execution_count": 64,
   "id": "3d4b2111",
   "metadata": {},
   "outputs": [],
   "source": [
    "#Fetching dataset from CSV file\n",
    "url='https://raw.githubusercontent.com/AdiPersonalWorks/Random/master/student_scores%20-%20student_scores.csv'\n",
    "dataset = pd.read_csv(url)"
   ]
  },
  {
   "cell_type": "markdown",
   "id": "48d4c368",
   "metadata": {},
   "source": [
    "<b>Displaying the Dataset</b>"
   ]
  },
  {
   "cell_type": "code",
   "execution_count": 65,
   "id": "2295e686",
   "metadata": {},
   "outputs": [
    {
     "data": {
      "text/html": [
       "<div>\n",
       "<style scoped>\n",
       "    .dataframe tbody tr th:only-of-type {\n",
       "        vertical-align: middle;\n",
       "    }\n",
       "\n",
       "    .dataframe tbody tr th {\n",
       "        vertical-align: top;\n",
       "    }\n",
       "\n",
       "    .dataframe thead th {\n",
       "        text-align: right;\n",
       "    }\n",
       "</style>\n",
       "<table border=\"1\" class=\"dataframe\">\n",
       "  <thead>\n",
       "    <tr style=\"text-align: right;\">\n",
       "      <th></th>\n",
       "      <th>Hours</th>\n",
       "      <th>Scores</th>\n",
       "    </tr>\n",
       "  </thead>\n",
       "  <tbody>\n",
       "    <tr>\n",
       "      <th>0</th>\n",
       "      <td>2.5</td>\n",
       "      <td>21</td>\n",
       "    </tr>\n",
       "    <tr>\n",
       "      <th>1</th>\n",
       "      <td>5.1</td>\n",
       "      <td>47</td>\n",
       "    </tr>\n",
       "    <tr>\n",
       "      <th>2</th>\n",
       "      <td>3.2</td>\n",
       "      <td>27</td>\n",
       "    </tr>\n",
       "    <tr>\n",
       "      <th>3</th>\n",
       "      <td>8.5</td>\n",
       "      <td>75</td>\n",
       "    </tr>\n",
       "    <tr>\n",
       "      <th>4</th>\n",
       "      <td>3.5</td>\n",
       "      <td>30</td>\n",
       "    </tr>\n",
       "    <tr>\n",
       "      <th>5</th>\n",
       "      <td>1.5</td>\n",
       "      <td>20</td>\n",
       "    </tr>\n",
       "    <tr>\n",
       "      <th>6</th>\n",
       "      <td>9.2</td>\n",
       "      <td>88</td>\n",
       "    </tr>\n",
       "    <tr>\n",
       "      <th>7</th>\n",
       "      <td>5.5</td>\n",
       "      <td>60</td>\n",
       "    </tr>\n",
       "    <tr>\n",
       "      <th>8</th>\n",
       "      <td>8.3</td>\n",
       "      <td>81</td>\n",
       "    </tr>\n",
       "    <tr>\n",
       "      <th>9</th>\n",
       "      <td>2.7</td>\n",
       "      <td>25</td>\n",
       "    </tr>\n",
       "    <tr>\n",
       "      <th>10</th>\n",
       "      <td>7.7</td>\n",
       "      <td>85</td>\n",
       "    </tr>\n",
       "  </tbody>\n",
       "</table>\n",
       "</div>"
      ],
      "text/plain": [
       "    Hours  Scores\n",
       "0     2.5      21\n",
       "1     5.1      47\n",
       "2     3.2      27\n",
       "3     8.5      75\n",
       "4     3.5      30\n",
       "5     1.5      20\n",
       "6     9.2      88\n",
       "7     5.5      60\n",
       "8     8.3      81\n",
       "9     2.7      25\n",
       "10    7.7      85"
      ]
     },
     "execution_count": 65,
     "metadata": {},
     "output_type": "execute_result"
    }
   ],
   "source": [
    "#printing the first eleven values\n",
    "dataset.head(11)"
   ]
  },
  {
   "cell_type": "markdown",
   "id": "efa84cc4",
   "metadata": {},
   "source": [
    "<b>Plotting graph for dataset</b>"
   ]
  },
  {
   "cell_type": "code",
   "execution_count": 66,
   "id": "6cfb3001",
   "metadata": {},
   "outputs": [
    {
     "data": {
      "image/png": "[encoded data removed]",
      "text/plain": [
       "<Figure size 432x288 with 1 Axes>"
      ]
     },
     "metadata": {
      "needs_background": "light"
     },
     "output_type": "display_data"
    }
   ],
   "source": [
    "#plotting the graph of study hours v/s marks scored\n",
    "plt.scatter(x=dataset['Hours'],y=dataset['Scores'],color='blue')\n",
    "plt.title('fig.- Study Hours vs. Marks Scored')\n",
    "plt.xlabel('Number of study hours')\n",
    "plt.ylabel('Marks Scores')\n",
    "plt.show()"
   ]
  },
  {
   "cell_type": "markdown",
   "id": "23d2f899",
   "metadata": {},
   "source": [
    "<b>Splitting Dataset into features and label</b>"
   ]
  },
  {
   "cell_type": "code",
   "execution_count": 67,
   "id": "53e3c757",
   "metadata": {},
   "outputs": [],
   "source": [
    "#splitting the dataset into dependent and independent variables\n",
    "x=dataset.iloc[:,:-1].values #dependent variable\n",
    "y=dataset.iloc[:,1].values #independent variable\n"
   ]
  },
  {
   "cell_type": "markdown",
   "id": "2f5a316e",
   "metadata": {},
   "source": [
    "<b>Training the Linear Regression Model</b>"
   ]
  },
  {
   "cell_type": "code",
   "execution_count": 68,
   "id": "4418c984",
   "metadata": {},
   "outputs": [
    {
     "name": "stdout",
     "output_type": "stream",
     "text": [
      "-----------------------------------------\n",
      "Model has been Successfully Trained.\n",
      "-----------------------------------------\n"
     ]
    }
   ],
   "source": [
    "#Training The Linear Regression Model\n",
    "lr = LinearRegression()\n",
    "lr.fit(x,y)\n",
    "print('-'*41)\n",
    "print('Model has been Successfully Trained.')\n",
    "print('-'*41)"
   ]
  },
  {
   "cell_type": "markdown",
   "id": "67fc3cb9",
   "metadata": {},
   "source": [
    "<b>Finding the Coefficient and Intercept</b>"
   ]
  },
  {
   "cell_type": "code",
   "execution_count": 69,
   "id": "216b045f",
   "metadata": {},
   "outputs": [
    {
     "name": "stdout",
     "output_type": "stream",
     "text": [
      "--------------------------------------------------\n",
      "The  Coefficient and Intercept are as follows:-\n",
      "Coefficient= 9.775803390787468\n",
      "Intercept= 2.48367340537321\n",
      "--------------------------------------------------\n"
     ]
    }
   ],
   "source": [
    "#finding the Coefficient and Intercept\n",
    "coeff=lr.coef_\n",
    "inter=lr.intercept_\n",
    "print('-'*50)\n",
    "print('The  Coefficient and Intercept are as follows:-')\n",
    "print('Coefficient=',coeff[0])\n",
    "print('Intercept=',inter)\n",
    "print('-'*50)"
   ]
  },
  {
   "cell_type": "markdown",
   "id": "2fe61179",
   "metadata": {},
   "source": [
    "<b>Plotting the Study Hours vs. Marks Scored Linear Regression Model.</b>"
   ]
  },
  {
   "cell_type": "code",
   "execution_count": 70,
   "id": "044a68b6",
   "metadata": {},
   "outputs": [
    {
     "data": {
      "image/png": "[encoded data removed]",
      "text/plain": [
       "<Figure size 432x288 with 1 Axes>"
      ]
     },
     "metadata": {
      "needs_background": "light"
     },
     "output_type": "display_data"
    }
   ],
   "source": [
    "#Plotting the Linear Regression Model.\n",
    "score=coeff*x+inter\n",
    "plt.title('Study Hours vs. Marks Scored Linear Regression Model')\n",
    "a=plt.scatter(x,y,color='blue')\n",
    "b=plt.plot(x,score, color='green')\n",
    "plt.xlabel('Study Hours')\n",
    "plt.ylabel('Marks Scored')\n",
    "plt.legend([b[0],a],['Linear Regression Line','Data Distribution'])\n",
    "plt.show()"
   ]
  },
  {
   "cell_type": "markdown",
   "id": "9610518d",
   "metadata": {},
   "source": [
    "<b>Making Predictions to Check Model</b>"
   ]
  },
  {
   "cell_type": "code",
   "execution_count": 71,
   "id": "431b9fbc",
   "metadata": {},
   "outputs": [],
   "source": [
    "#Making Predictions to Check Model\n",
    "y_test=lr.predict(x)"
   ]
  },
  {
   "cell_type": "code",
   "execution_count": 72,
   "id": "dfd501e3",
   "metadata": {},
   "outputs": [
    {
     "name": "stdout",
     "output_type": "stream",
     "text": [
      "Actual value: [21 47 27 75 30 20 88 60 81 25 85 62 41 42 17 95 30 24 67 69 30 54 35 76\n",
      " 86]\n",
      "Predicted value: [26 52 33 85 36 17 92 56 83 28 77 60 46 34 13 89 26 21 62 74 28 49 39 69\n",
      " 78]\n"
     ]
    }
   ],
   "source": [
    "#comparing the actual and predicted values\n",
    "print('Actual value:',y)\n",
    "print('Predicted value:',y_test.astype(int))"
   ]
  },
  {
   "cell_type": "markdown",
   "id": "ad6447d4",
   "metadata": {},
   "source": [
    "<b>Evaluating the performance of the model</b>"
   ]
  },
  {
   "cell_type": "code",
   "execution_count": 73,
   "id": "6643eb4d",
   "metadata": {},
   "outputs": [
    {
     "name": "stdout",
     "output_type": "stream",
     "text": [
      "-----------------------------------------\n",
      "R2 Score= 0.9529481969048356\n",
      "Mean Squared Error Score= 28.882730509245466\n",
      "Root Mean Squared Error Score= 5.374265578592619\n",
      "-----------------------------------------\n"
     ]
    }
   ],
   "source": [
    "#Evaluating the performance of the model\n",
    "r2=r2_score(y,y_test)\n",
    "mse=mean_squared_error(y,y_test)\n",
    "rmse=np.sqrt(mse)\n",
    "print('-'*41)\n",
    "print('R2 Score=',r2)\n",
    "print('Mean Squared Error Score=',mse)\n",
    "print('Root Mean Squared Error Score=',rmse)\n",
    "print('-'*41)"
   ]
  },
  {
   "cell_type": "markdown",
   "id": "acd8f393",
   "metadata": {},
   "source": [
    "<b>What will be predicted score if a student studies for 9.25 hrs/ day?</b>"
   ]
  },
  {
   "cell_type": "code",
   "execution_count": 75,
   "id": "45e59f04",
   "metadata": {},
   "outputs": [
    {
     "name": "stdout",
     "output_type": "stream",
     "text": [
      "-----------------------------------------\n",
      "No of hours= 9.25\n",
      "The predicted score= 92.9098547701573\n",
      "-----------------------------------------\n"
     ]
    }
   ],
   "source": [
    "study_hours=[[9.25]]\n",
    "prediction_ans=lr.predict(study_hours)\n",
    "print('-'*41)\n",
    "print('No of hours=',study_hours[0][0])\n",
    "print('The predicted score=',prediction_ans[0])\n",
    "print('-'*41)"
   ]
  },
  {
   "cell_type": "markdown",
   "id": "c3c126e7",
   "metadata": {},
   "source": [
    "<b><em>----------------------------------------------------------------------------------------------TASK1 COMPLETED---------------------------------------------------------------------------------------</em></b>"
   ]
  },
  {
   "cell_type": "code",
   "execution_count": null,
   "id": "a4a4eb6e",
   "metadata": {},
   "outputs": [],
   "source": []
  },
  {
   "cell_type": "code",
   "execution_count": null,
   "id": "00be4977",
   "metadata": {},
   "outputs": [],
   "source": []
  }
 ],
 "metadata": {
  "kernelspec": {
   "display_name": "Python 3",
   "language": "python",
   "name": "python3"
  },
  "language_info": {
   "codemirror_mode": {
    "name": "ipython",
    "version": 3
   },
   "file_extension": ".py",
   "mimetype": "text/x-python",
   "name": "python",
   "nbconvert_exporter": "python",
   "pygments_lexer": "ipython3",
   "version": "3.9.5"
  }
 },
 "nbformat": 4,
 "nbformat_minor": 5
}
